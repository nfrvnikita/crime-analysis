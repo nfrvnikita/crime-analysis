{
 "cells": [
  {
   "cell_type": "markdown",
   "metadata": {},
   "source": [
    "## Анализируем правонарушения"
   ]
  },
  {
   "cell_type": "markdown",
   "metadata": {},
   "source": [
    "### 1. Импортируем библиотеки"
   ]
  },
  {
   "cell_type": "code",
   "execution_count": 1,
   "metadata": {},
   "outputs": [],
   "source": [
    "import numpy as np\n",
    "import pandas as pd\n",
    "import matplotlib.pyplot as plt\n",
    "import seaborn as sns\n",
    "from IPython.display import display\n",
    "from datetime import datetime"
   ]
  },
  {
   "cell_type": "markdown",
   "metadata": {},
   "source": [
    "### 2. Загружаем датафрейм, а также индекс делаем переменной вида дата/время"
   ]
  },
  {
   "cell_type": "code",
   "execution_count": 2,
   "metadata": {},
   "outputs": [
    {
     "data": {
      "text/html": [
       "<div>\n",
       "<style scoped>\n",
       "    .dataframe tbody tr th:only-of-type {\n",
       "        vertical-align: middle;\n",
       "    }\n",
       "\n",
       "    .dataframe tbody tr th {\n",
       "        vertical-align: top;\n",
       "    }\n",
       "\n",
       "    .dataframe thead th {\n",
       "        text-align: right;\n",
       "    }\n",
       "</style>\n",
       "<table border=\"1\" class=\"dataframe\">\n",
       "  <thead>\n",
       "    <tr style=\"text-align: right;\">\n",
       "      <th></th>\n",
       "      <th>id</th>\n",
       "      <th>state</th>\n",
       "      <th>location_raw</th>\n",
       "      <th>county_name</th>\n",
       "      <th>county_fips</th>\n",
       "      <th>fine_grained_location</th>\n",
       "      <th>police_department</th>\n",
       "      <th>driver_gender</th>\n",
       "      <th>driver_age_raw</th>\n",
       "      <th>driver_age</th>\n",
       "      <th>...</th>\n",
       "      <th>driver_race</th>\n",
       "      <th>violation_raw</th>\n",
       "      <th>violation</th>\n",
       "      <th>search_conducted</th>\n",
       "      <th>search_type_raw</th>\n",
       "      <th>search_type</th>\n",
       "      <th>contraband_found</th>\n",
       "      <th>stop_outcome</th>\n",
       "      <th>is_arrested</th>\n",
       "      <th>officer_id</th>\n",
       "    </tr>\n",
       "  </thead>\n",
       "  <tbody>\n",
       "    <tr>\n",
       "      <th>2010-07-01 00:10:00</th>\n",
       "      <td>VT-2010-00001</td>\n",
       "      <td>VT</td>\n",
       "      <td>East Montpelier</td>\n",
       "      <td>Washington County</td>\n",
       "      <td>50023.0</td>\n",
       "      <td>COUNTY RD</td>\n",
       "      <td>MIDDLESEX VSP</td>\n",
       "      <td>M</td>\n",
       "      <td>22.0</td>\n",
       "      <td>22.0</td>\n",
       "      <td>...</td>\n",
       "      <td>White</td>\n",
       "      <td>Moving Violation</td>\n",
       "      <td>Moving violation</td>\n",
       "      <td>False</td>\n",
       "      <td>No Search Conducted</td>\n",
       "      <td>NaN</td>\n",
       "      <td>False</td>\n",
       "      <td>Citation</td>\n",
       "      <td>False</td>\n",
       "      <td>-1.562157e+09</td>\n",
       "    </tr>\n",
       "    <tr>\n",
       "      <th>2010-07-01 00:11:00</th>\n",
       "      <td>VT-2010-00004</td>\n",
       "      <td>VT</td>\n",
       "      <td>Whiting</td>\n",
       "      <td>Addison County</td>\n",
       "      <td>50001.0</td>\n",
       "      <td>N MAIN ST</td>\n",
       "      <td>NEW HAVEN VSP</td>\n",
       "      <td>F</td>\n",
       "      <td>18.0</td>\n",
       "      <td>18.0</td>\n",
       "      <td>...</td>\n",
       "      <td>White</td>\n",
       "      <td>Moving Violation</td>\n",
       "      <td>Moving violation</td>\n",
       "      <td>False</td>\n",
       "      <td>No Search Conducted</td>\n",
       "      <td>NaN</td>\n",
       "      <td>False</td>\n",
       "      <td>Arrest for Violation</td>\n",
       "      <td>True</td>\n",
       "      <td>-3.126844e+08</td>\n",
       "    </tr>\n",
       "    <tr>\n",
       "      <th>2010-07-01 00:35:00</th>\n",
       "      <td>VT-2010-00005</td>\n",
       "      <td>VT</td>\n",
       "      <td>Hardwick</td>\n",
       "      <td>Caledonia County</td>\n",
       "      <td>50005.0</td>\n",
       "      <td>i91 nb mm 62</td>\n",
       "      <td>ROYALTON VSP</td>\n",
       "      <td>M</td>\n",
       "      <td>18.0</td>\n",
       "      <td>18.0</td>\n",
       "      <td>...</td>\n",
       "      <td>White</td>\n",
       "      <td>Moving Violation</td>\n",
       "      <td>Moving violation</td>\n",
       "      <td>False</td>\n",
       "      <td>No Search Conducted</td>\n",
       "      <td>NaN</td>\n",
       "      <td>False</td>\n",
       "      <td>Written Warning</td>\n",
       "      <td>False</td>\n",
       "      <td>9.225661e+08</td>\n",
       "    </tr>\n",
       "    <tr>\n",
       "      <th>2010-07-01 00:44:00</th>\n",
       "      <td>VT-2010-00006</td>\n",
       "      <td>VT</td>\n",
       "      <td>Hardwick</td>\n",
       "      <td>Caledonia County</td>\n",
       "      <td>50005.0</td>\n",
       "      <td>64000 I 91 N; MM64 I 91 N</td>\n",
       "      <td>ROYALTON VSP</td>\n",
       "      <td>F</td>\n",
       "      <td>20.0</td>\n",
       "      <td>20.0</td>\n",
       "      <td>...</td>\n",
       "      <td>White</td>\n",
       "      <td>Vehicle Equipment</td>\n",
       "      <td>Equipment</td>\n",
       "      <td>False</td>\n",
       "      <td>No Search Conducted</td>\n",
       "      <td>NaN</td>\n",
       "      <td>False</td>\n",
       "      <td>Written Warning</td>\n",
       "      <td>False</td>\n",
       "      <td>-6.032327e+08</td>\n",
       "    </tr>\n",
       "    <tr>\n",
       "      <th>2010-07-01 01:10:00</th>\n",
       "      <td>VT-2010-00009</td>\n",
       "      <td>VT</td>\n",
       "      <td>Rochester</td>\n",
       "      <td>Windsor County</td>\n",
       "      <td>50027.0</td>\n",
       "      <td>36000 I 91 S; MM36 I 91 S</td>\n",
       "      <td>ROCKINGHAM VSP</td>\n",
       "      <td>M</td>\n",
       "      <td>24.0</td>\n",
       "      <td>24.0</td>\n",
       "      <td>...</td>\n",
       "      <td>Black</td>\n",
       "      <td>Moving Violation</td>\n",
       "      <td>Moving violation</td>\n",
       "      <td>False</td>\n",
       "      <td>No Search Conducted</td>\n",
       "      <td>NaN</td>\n",
       "      <td>False</td>\n",
       "      <td>Written Warning</td>\n",
       "      <td>False</td>\n",
       "      <td>2.939526e+08</td>\n",
       "    </tr>\n",
       "  </tbody>\n",
       "</table>\n",
       "<p>5 rows × 21 columns</p>\n",
       "</div>"
      ],
      "text/plain": [
       "                                id state     location_raw        county_name  \\\n",
       "2010-07-01 00:10:00  VT-2010-00001    VT  East Montpelier  Washington County   \n",
       "2010-07-01 00:11:00  VT-2010-00004    VT          Whiting     Addison County   \n",
       "2010-07-01 00:35:00  VT-2010-00005    VT         Hardwick   Caledonia County   \n",
       "2010-07-01 00:44:00  VT-2010-00006    VT         Hardwick   Caledonia County   \n",
       "2010-07-01 01:10:00  VT-2010-00009    VT        Rochester     Windsor County   \n",
       "\n",
       "                     county_fips      fine_grained_location police_department  \\\n",
       "2010-07-01 00:10:00      50023.0                  COUNTY RD     MIDDLESEX VSP   \n",
       "2010-07-01 00:11:00      50001.0                  N MAIN ST     NEW HAVEN VSP   \n",
       "2010-07-01 00:35:00      50005.0               i91 nb mm 62      ROYALTON VSP   \n",
       "2010-07-01 00:44:00      50005.0  64000 I 91 N; MM64 I 91 N      ROYALTON VSP   \n",
       "2010-07-01 01:10:00      50027.0  36000 I 91 S; MM36 I 91 S    ROCKINGHAM VSP   \n",
       "\n",
       "                    driver_gender  driver_age_raw  driver_age  ...  \\\n",
       "2010-07-01 00:10:00             M            22.0        22.0  ...   \n",
       "2010-07-01 00:11:00             F            18.0        18.0  ...   \n",
       "2010-07-01 00:35:00             M            18.0        18.0  ...   \n",
       "2010-07-01 00:44:00             F            20.0        20.0  ...   \n",
       "2010-07-01 01:10:00             M            24.0        24.0  ...   \n",
       "\n",
       "                    driver_race      violation_raw         violation  \\\n",
       "2010-07-01 00:10:00       White   Moving Violation  Moving violation   \n",
       "2010-07-01 00:11:00       White   Moving Violation  Moving violation   \n",
       "2010-07-01 00:35:00       White   Moving Violation  Moving violation   \n",
       "2010-07-01 00:44:00       White  Vehicle Equipment         Equipment   \n",
       "2010-07-01 01:10:00       Black   Moving Violation  Moving violation   \n",
       "\n",
       "                    search_conducted      search_type_raw search_type  \\\n",
       "2010-07-01 00:10:00            False  No Search Conducted         NaN   \n",
       "2010-07-01 00:11:00            False  No Search Conducted         NaN   \n",
       "2010-07-01 00:35:00            False  No Search Conducted         NaN   \n",
       "2010-07-01 00:44:00            False  No Search Conducted         NaN   \n",
       "2010-07-01 01:10:00            False  No Search Conducted         NaN   \n",
       "\n",
       "                    contraband_found          stop_outcome is_arrested  \\\n",
       "2010-07-01 00:10:00            False              Citation       False   \n",
       "2010-07-01 00:11:00            False  Arrest for Violation        True   \n",
       "2010-07-01 00:35:00            False       Written Warning       False   \n",
       "2010-07-01 00:44:00            False       Written Warning       False   \n",
       "2010-07-01 01:10:00            False       Written Warning       False   \n",
       "\n",
       "                       officer_id  \n",
       "2010-07-01 00:10:00 -1.562157e+09  \n",
       "2010-07-01 00:11:00 -3.126844e+08  \n",
       "2010-07-01 00:35:00  9.225661e+08  \n",
       "2010-07-01 00:44:00 -6.032327e+08  \n",
       "2010-07-01 01:10:00  2.939526e+08  \n",
       "\n",
       "[5 rows x 21 columns]"
      ]
     },
     "execution_count": 2,
     "metadata": {},
     "output_type": "execute_result"
    }
   ],
   "source": [
    "df = pd.read_csv('crime.csv', index_col=0)\n",
    "df.index = pd.to_datetime(df.index)\n",
    "df.head()"
   ]
  },
  {
   "cell_type": "markdown",
   "metadata": {},
   "source": [
    "### 3. Построим сводную таблицу по количеству правонарушений"
   ]
  },
  {
   "cell_type": "code",
   "execution_count": 3,
   "metadata": {},
   "outputs": [
    {
     "data": {
      "text/html": [
       "<div>\n",
       "<style scoped>\n",
       "    .dataframe tbody tr th:only-of-type {\n",
       "        vertical-align: middle;\n",
       "    }\n",
       "\n",
       "    .dataframe tbody tr th {\n",
       "        vertical-align: top;\n",
       "    }\n",
       "\n",
       "    .dataframe thead th {\n",
       "        text-align: right;\n",
       "    }\n",
       "</style>\n",
       "<table border=\"1\" class=\"dataframe\">\n",
       "  <thead>\n",
       "    <tr style=\"text-align: right;\">\n",
       "      <th>driver_race</th>\n",
       "      <th>Asian</th>\n",
       "      <th>Black</th>\n",
       "      <th>Hispanic</th>\n",
       "      <th>Other</th>\n",
       "      <th>White</th>\n",
       "    </tr>\n",
       "    <tr>\n",
       "      <th>driver_gender</th>\n",
       "      <th></th>\n",
       "      <th></th>\n",
       "      <th></th>\n",
       "      <th></th>\n",
       "      <th></th>\n",
       "    </tr>\n",
       "  </thead>\n",
       "  <tbody>\n",
       "    <tr>\n",
       "      <th>F</th>\n",
       "      <td>1022</td>\n",
       "      <td>1339</td>\n",
       "      <td>579</td>\n",
       "      <td>75</td>\n",
       "      <td>96096</td>\n",
       "    </tr>\n",
       "    <tr>\n",
       "      <th>M</th>\n",
       "      <td>2424</td>\n",
       "      <td>4232</td>\n",
       "      <td>1983</td>\n",
       "      <td>188</td>\n",
       "      <td>165243</td>\n",
       "    </tr>\n",
       "  </tbody>\n",
       "</table>\n",
       "</div>"
      ],
      "text/plain": [
       "driver_race    Asian  Black  Hispanic  Other   White\n",
       "driver_gender                                       \n",
       "F               1022   1339       579     75   96096\n",
       "M               2424   4232      1983    188  165243"
      ]
     },
     "execution_count": 3,
     "metadata": {},
     "output_type": "execute_result"
    }
   ],
   "source": [
    "counts_df = pd.pivot_table(df, index=['driver_gender'], columns=['driver_race'], \n",
    "                        values='id', \n",
    "                        aggfunc='count')\n",
    "counts_df"
   ]
  },
  {
   "cell_type": "markdown",
   "metadata": {},
   "source": [
    "### 4. Построим сводную таблицу по процентам в зависимости от расы и пола внутри рассы"
   ]
  },
  {
   "cell_type": "code",
   "execution_count": 4,
   "metadata": {},
   "outputs": [
    {
     "data": {
      "text/html": [
       "<div>\n",
       "<style scoped>\n",
       "    .dataframe tbody tr th:only-of-type {\n",
       "        vertical-align: middle;\n",
       "    }\n",
       "\n",
       "    .dataframe tbody tr th {\n",
       "        vertical-align: top;\n",
       "    }\n",
       "\n",
       "    .dataframe thead th {\n",
       "        text-align: right;\n",
       "    }\n",
       "</style>\n",
       "<table border=\"1\" class=\"dataframe\">\n",
       "  <thead>\n",
       "    <tr style=\"text-align: right;\">\n",
       "      <th>driver_race</th>\n",
       "      <th>Asian</th>\n",
       "      <th>Black</th>\n",
       "      <th>Hispanic</th>\n",
       "      <th>Other</th>\n",
       "      <th>White</th>\n",
       "    </tr>\n",
       "    <tr>\n",
       "      <th>driver_gender</th>\n",
       "      <th></th>\n",
       "      <th></th>\n",
       "      <th></th>\n",
       "      <th></th>\n",
       "      <th></th>\n",
       "    </tr>\n",
       "  </thead>\n",
       "  <tbody>\n",
       "    <tr>\n",
       "      <th>F</th>\n",
       "      <td>0.296576</td>\n",
       "      <td>0.240352</td>\n",
       "      <td>0.225995</td>\n",
       "      <td>0.285171</td>\n",
       "      <td>0.367706</td>\n",
       "    </tr>\n",
       "    <tr>\n",
       "      <th>M</th>\n",
       "      <td>0.703424</td>\n",
       "      <td>0.759648</td>\n",
       "      <td>0.774005</td>\n",
       "      <td>0.714829</td>\n",
       "      <td>0.632294</td>\n",
       "    </tr>\n",
       "  </tbody>\n",
       "</table>\n",
       "</div>"
      ],
      "text/plain": [
       "driver_race       Asian     Black  Hispanic     Other     White\n",
       "driver_gender                                                  \n",
       "F              0.296576  0.240352  0.225995  0.285171  0.367706\n",
       "M              0.703424  0.759648  0.774005  0.714829  0.632294"
      ]
     },
     "execution_count": 4,
     "metadata": {},
     "output_type": "execute_result"
    }
   ],
   "source": [
    "sex_df = pd.pivot_table(df, index=['driver_gender'], columns=['driver_race'], \n",
    "                        values='id',\n",
    "                        aggfunc='count').transform(lambda x: x/x.sum(), axis=0)\n",
    "sex_df"
   ]
  },
  {
   "cell_type": "markdown",
   "metadata": {},
   "source": [
    "### 5. Визуализируем результат предыдущей таблицы на столбцовом графике с высотой столбца 100 для каждой рассы и разделением внутри по полу"
   ]
  },
  {
   "cell_type": "code",
   "execution_count": 5,
   "metadata": {},
   "outputs": [
    {
     "data": {
      "text/plain": [
       "Text(0, 0.5, 'Percent is Arrested')"
      ]
     },
     "execution_count": 5,
     "metadata": {},
     "output_type": "execute_result"
    },
    {
     "data": {
      "image/png": "[encoded data removed]",
      "text/plain": [
       "<Figure size 432x288 with 1 Axes>"
      ]
     },
     "metadata": {
      "needs_background": "light"
     },
     "output_type": "display_data"
    }
   ],
   "source": [
    "import plotly.express as px\n",
    "\n",
    "sex_df.transpose().apply(lambda x: x*100/sum(x), axis=1).plot(kind=\"bar\", stacked=True)\n",
    "\n",
    "plt.legend(('Women', 'Men'))\n",
    "plt.title(\"Sex_DF\")\n",
    "plt.xlabel(\"Driver_gender\")\n",
    "plt.ylabel(\"Percent is Arrested\")"
   ]
  },
  {
   "cell_type": "markdown",
   "metadata": {},
   "source": [
    "### 6. Считаем количество правонарушений для каждого вида нарушений (violation)"
   ]
  },
  {
   "cell_type": "code",
   "execution_count": 12,
   "metadata": {},
   "outputs": [
    {
     "data": {
      "text/html": [
       "<div>\n",
       "<style scoped>\n",
       "    .dataframe tbody tr th:only-of-type {\n",
       "        vertical-align: middle;\n",
       "    }\n",
       "\n",
       "    .dataframe tbody tr th {\n",
       "        vertical-align: top;\n",
       "    }\n",
       "\n",
       "    .dataframe thead th {\n",
       "        text-align: right;\n",
       "    }\n",
       "</style>\n",
       "<table border=\"1\" class=\"dataframe\">\n",
       "  <thead>\n",
       "    <tr style=\"text-align: right;\">\n",
       "      <th>violation</th>\n",
       "      <th>DUI</th>\n",
       "      <th>Equipment</th>\n",
       "      <th>Moving violation</th>\n",
       "      <th>Other</th>\n",
       "      <th>Other (non-mapped)</th>\n",
       "    </tr>\n",
       "    <tr>\n",
       "      <th>driver_gender</th>\n",
       "      <th></th>\n",
       "      <th></th>\n",
       "      <th></th>\n",
       "      <th></th>\n",
       "      <th></th>\n",
       "    </tr>\n",
       "  </thead>\n",
       "  <tbody>\n",
       "    <tr>\n",
       "      <th>F</th>\n",
       "      <td>198</td>\n",
       "      <td>18755</td>\n",
       "      <td>76717</td>\n",
       "      <td>3441</td>\n",
       "      <td>0</td>\n",
       "    </tr>\n",
       "    <tr>\n",
       "      <th>M</th>\n",
       "      <td>513</td>\n",
       "      <td>31845</td>\n",
       "      <td>135383</td>\n",
       "      <td>6327</td>\n",
       "      <td>2</td>\n",
       "    </tr>\n",
       "  </tbody>\n",
       "</table>\n",
       "</div>"
      ],
      "text/plain": [
       "violation      DUI  Equipment  Moving violation  Other  Other (non-mapped)\n",
       "driver_gender                                                             \n",
       "F              198      18755             76717   3441                   0\n",
       "M              513      31845            135383   6327                   2"
      ]
     },
     "execution_count": 12,
     "metadata": {},
     "output_type": "execute_result"
    }
   ],
   "source": [
    "df_vio = pd.pivot_table(df, index=['driver_gender'], columns=['violation'], \n",
    "                        values='id',\n",
    "                        aggfunc='count',\n",
    "                        fill_value=0)\n",
    "df_vio"
   ]
  },
  {
   "cell_type": "markdown",
   "metadata": {},
   "source": [
    "### 7. Проверяем зависимость между днями недели и количеством правонарушений"
   ]
  },
  {
   "cell_type": "code",
   "execution_count": 16,
   "metadata": {},
   "outputs": [
    {
     "data": {
      "text/plain": [
       "Text(0, 0.5, 'Counts')"
      ]
     },
     "execution_count": 16,
     "metadata": {},
     "output_type": "execute_result"
    },
    {
     "data": {
      "image/png": "[encoded data removed]",
      "text/plain": [
       "<Figure size 432x288 with 1 Axes>"
      ]
     },
     "metadata": {
      "needs_background": "light"
     },
     "output_type": "display_data"
    }
   ],
   "source": [
    "day_crime = df['id'].resample('D').count()\n",
    "day_week_crime = day_crime.groupby(day_crime.index.dayofweek).mean()\n",
    "day_week_crime.plot()\n",
    "\n",
    "plt.title(\"Crimes\")\n",
    "plt.xlabel(\"Days of the week\")\n",
    "plt.ylabel(\"Counts\")"
   ]
  }
 ],
 "metadata": {
  "kernelspec": {
   "display_name": "Python 3",
   "language": "python",
   "name": "python3"
  },
  "language_info": {
   "codemirror_mode": {
    "name": "ipython",
    "version": 3
   },
   "file_extension": ".py",
   "mimetype": "text/x-python",
   "name": "python",
   "nbconvert_exporter": "python",
   "pygments_lexer": "ipython3",
   "version": "3.8.8"
  }
 },
 "nbformat": 4,
 "nbformat_minor": 2
}
